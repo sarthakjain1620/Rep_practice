{
 "cells": [
  {
   "cell_type": "code",
   "execution_count": 1,
   "id": "266ee264",
   "metadata": {},
   "outputs": [],
   "source": [
    "import numpy as np\n",
    "import matplotlib.pyplot as plt\n",
    "%matplotlib inline\n",
    "plt.style.use('ggplot')\n",
    "\n",
    "from sklearn.decomposition import PCA\n",
    "\n",
    "import gensim.downloader as api\n",
    "from gensim.models import KeyedVectors"
   ]
  },
  {
   "cell_type": "code",
   "execution_count": 2,
   "id": "17f7caf3",
   "metadata": {},
   "outputs": [
    {
     "name": "stdout",
     "output_type": "stream",
     "text": [
      "[==================================================] 100.0% 128.1/128.1MB downloaded\n",
      "<class 'gensim.models.keyedvectors.KeyedVectors'>\n"
     ]
    }
   ],
   "source": [
    "model = api.load('glove-wiki-gigaword-100')\n",
    "print(type(model))"
   ]
  },
  {
   "cell_type": "code",
   "execution_count": 3,
   "id": "3b5a473a",
   "metadata": {},
   "outputs": [
    {
     "data": {
      "text/plain": [
       "array([-0.66146  ,  0.94335  , -0.72214  ,  0.17403  , -0.42524  ,\n",
       "        0.36303  ,  1.0135   , -0.14802  ,  0.25817  , -0.20326  ,\n",
       "       -0.64338  ,  0.16632  ,  0.61518  ,  1.397    , -0.094506 ,\n",
       "        0.0041843, -0.18976  , -0.55421  , -0.39371  , -0.22501  ,\n",
       "       -0.34643  ,  0.32076  ,  0.34395  , -0.7034   ,  0.23932  ,\n",
       "        0.69951  , -0.16461  , -0.31819  , -0.34034  , -0.44906  ,\n",
       "       -0.069667 ,  0.35348  ,  0.17498  , -0.95057  , -0.2209   ,\n",
       "        1.0647   ,  0.23231  ,  0.32569  ,  0.47662  , -1.1206   ,\n",
       "        0.28168  , -0.75172  , -0.54654  , -0.66337  ,  0.34804  ,\n",
       "       -0.69058  , -0.77092  , -0.40167  , -0.069351 , -0.049238 ,\n",
       "       -0.39351  ,  0.16735  , -0.14512  ,  1.0083   , -1.0608   ,\n",
       "       -0.87314  , -0.29339  ,  0.68278  ,  0.61634  , -0.088844 ,\n",
       "        0.88094  ,  0.099809 , -0.27161  , -0.58026  ,  0.50364  ,\n",
       "       -0.93814  ,  0.67576  , -0.43124  , -0.10517  , -1.2404   ,\n",
       "       -0.74353  ,  0.28637  ,  0.29012  ,  0.89377  ,  0.67406  ,\n",
       "        0.86422  , -0.30693  , -0.14718  ,  0.078353 ,  0.74013  ,\n",
       "        0.32658  , -0.052579 , -1.1665   ,  0.87079  , -0.69402  ,\n",
       "       -0.75977  , -0.37164  , -0.11887  ,  0.18551  ,  0.041883 ,\n",
       "        0.59352  ,  0.30519  , -0.54819  , -0.29424  , -1.4912   ,\n",
       "       -1.6548   ,  0.98982  ,  0.27325  ,  1.009    ,  0.94544  ],\n",
       "      dtype=float32)"
      ]
     },
     "execution_count": 3,
     "metadata": {},
     "output_type": "execute_result"
    }
   ],
   "source": [
    "model['bread']"
   ]
  },
  {
   "cell_type": "code",
   "execution_count": 4,
   "id": "55c3ad1a",
   "metadata": {},
   "outputs": [
    {
     "data": {
      "text/plain": [
       "array([ 0.44507  ,  1.1348   ,  0.33681  ,  0.033357 , -1.0405   ,\n",
       "        0.24413  ,  0.43113  ,  0.041197 , -0.81321  ,  1.1462   ,\n",
       "       -0.041166 , -0.56681  , -0.37751  ,  0.010833 , -0.49384  ,\n",
       "       -0.98461  ,  0.2911   ,  0.62519  ,  0.0021157,  0.076011 ,\n",
       "        0.57661  , -0.42666  ,  0.026943 , -0.31422  ,  0.22591  ,\n",
       "       -0.40706  , -0.44773  , -0.46698  ,  0.071828 ,  0.087351 ,\n",
       "       -0.25286  ,  1.0292   , -0.17695  , -0.57001  ,  0.69949  ,\n",
       "        0.49922  , -0.23905  ,  0.21815  ,  0.067587 ,  0.91464  ,\n",
       "       -0.62297  , -0.85661  , -0.1409   , -0.61247  ,  0.66159  ,\n",
       "        0.090501 ,  0.19563  ,  0.35387  ,  0.18804  ,  0.30706  ,\n",
       "       -0.73807  ,  0.019089 , -0.32798  ,  0.51793  , -0.003088 ,\n",
       "       -1.7927   ,  0.08279  , -0.13564  ,  2.0857   ,  0.16076  ,\n",
       "       -0.41443  ,  0.42641  ,  0.055687 ,  0.03359  ,  0.74283  ,\n",
       "       -0.19547  ,  0.53011  ,  0.19503  ,  0.44296  ,  0.54503  ,\n",
       "       -0.030984 , -0.49682  , -0.11398  ,  0.085998 , -0.046392 ,\n",
       "        0.92739  ,  0.088696 , -0.28703  , -0.72927  , -1.1755   ,\n",
       "       -0.26028  , -0.55622  , -0.026987 , -0.20324  , -0.81465  ,\n",
       "       -0.12299  , -1.1006   , -1.5845   , -0.18962  , -0.32423  ,\n",
       "       -0.99665  , -0.060921 ,  0.43139  ,  0.38787  ,  0.24177  ,\n",
       "        0.29155  , -0.080935 , -0.70294  ,  0.47778  , -0.33316  ],\n",
       "      dtype=float32)"
      ]
     },
     "execution_count": 4,
     "metadata": {},
     "output_type": "execute_result"
    }
   ],
   "source": [
    "model['class']"
   ]
  },
  {
   "cell_type": "code",
   "execution_count": 6,
   "id": "c7b27267",
   "metadata": {},
   "outputs": [
    {
     "data": {
      "text/plain": [
       "[('pakistan', 0.8370324373245239),\n",
       " ('indian', 0.780203104019165),\n",
       " ('delhi', 0.7712195515632629),\n",
       " ('bangladesh', 0.7661641240119934),\n",
       " ('lanka', 0.7639288306236267),\n",
       " ('sri', 0.7506584525108337),\n",
       " ('australia', 0.704209566116333),\n",
       " ('malaysia', 0.6796303391456604),\n",
       " ('nepal', 0.6761943697929382),\n",
       " ('thailand', 0.6671633124351501)]"
      ]
     },
     "execution_count": 6,
     "metadata": {},
     "output_type": "execute_result"
    }
   ],
   "source": [
    "model.most_similar('india')"
   ]
  },
  {
   "cell_type": "code",
   "execution_count": 7,
   "id": "0dcb5de4",
   "metadata": {},
   "outputs": [
    {
     "data": {
      "text/plain": [
       "[('vehicle', 0.8630837798118591),\n",
       " ('truck', 0.8597878813743591),\n",
       " ('cars', 0.837166965007782),\n",
       " ('driver', 0.8185911178588867),\n",
       " ('driving', 0.7812635898590088),\n",
       " ('motorcycle', 0.7553157210350037),\n",
       " ('vehicles', 0.7462256550788879),\n",
       " ('parked', 0.74594646692276),\n",
       " ('bus', 0.7372707724571228),\n",
       " ('taxi', 0.7155268788337708)]"
      ]
     },
     "execution_count": 7,
     "metadata": {},
     "output_type": "execute_result"
    }
   ],
   "source": [
    "model.most_similar('car')"
   ]
  },
  {
   "cell_type": "code",
   "execution_count": 8,
   "id": "3f067f87",
   "metadata": {},
   "outputs": [],
   "source": [
    "def analogy(x1,x2,y1):\n",
    "    result = model.most_similar(positive = [y1,x2], negative = [x1])\n",
    "    return result[0][0]"
   ]
  },
  {
   "cell_type": "code",
   "execution_count": 9,
   "id": "75978341",
   "metadata": {},
   "outputs": [
    {
     "data": {
      "text/plain": [
       "'girl'"
      ]
     },
     "execution_count": 9,
     "metadata": {},
     "output_type": "execute_result"
    }
   ],
   "source": [
    "analogy('king', 'man', 'woman')"
   ]
  },
  {
   "cell_type": "code",
   "execution_count": 10,
   "id": "28e9b35b",
   "metadata": {},
   "outputs": [
    {
     "data": {
      "text/plain": [
       "'queen'"
      ]
     },
     "execution_count": 10,
     "metadata": {},
     "output_type": "execute_result"
    }
   ],
   "source": [
    "analogy('man', 'king', 'woman')"
   ]
  },
  {
   "cell_type": "code",
   "execution_count": 11,
   "id": "19855df8",
   "metadata": {},
   "outputs": [
    {
     "data": {
      "text/plain": [
       "'football'"
      ]
     },
     "execution_count": 11,
     "metadata": {},
     "output_type": "execute_result"
    }
   ],
   "source": [
    "analogy('india', 'hockey', 'england')"
   ]
  },
  {
   "cell_type": "code",
   "execution_count": 13,
   "id": "413f845d",
   "metadata": {},
   "outputs": [
    {
     "data": {
      "text/plain": [
       "'route'"
      ]
     },
     "execution_count": 13,
     "metadata": {},
     "output_type": "execute_result"
    }
   ],
   "source": [
    "analogy('car', 'road', 'train')"
   ]
  }
 ],
 "metadata": {
  "kernelspec": {
   "display_name": "Python 3",
   "language": "python",
   "name": "python3"
  },
  "language_info": {
   "codemirror_mode": {
    "name": "ipython",
    "version": 3
   },
   "file_extension": ".py",
   "mimetype": "text/x-python",
   "name": "python",
   "nbconvert_exporter": "python",
   "pygments_lexer": "ipython3",
   "version": "3.8.8"
  }
 },
 "nbformat": 4,
 "nbformat_minor": 5
}
